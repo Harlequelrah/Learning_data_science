{
  "nbformat": 4,
  "nbformat_minor": 0,
  "metadata": {
    "colab": {
      "provenance": [],
      "authorship_tag": "ABX9TyPmfVuCZa5Fyxk/QqgkomI8",
      "include_colab_link": true
    },
    "kernelspec": {
      "name": "python3",
      "display_name": "Python 3"
    },
    "language_info": {
      "name": "python"
    }
  },
  "cells": [
    {
      "cell_type": "markdown",
      "metadata": {
        "id": "view-in-github",
        "colab_type": "text"
      },
      "source": [
        "<a href=\"https://colab.research.google.com/github/Harlequelrah/Learning_data_science/blob/main/learning_data_science/index.ipynb\" target=\"_parent\"><img src=\"https://colab.research.google.com/assets/colab-badge.svg\" alt=\"Open In Colab\"/></a>"
      ]
    },
    {
      "cell_type": "markdown",
      "source": [
        "**Pandas est un outil qui permet de représenter les données avec le format souhaité (individus/variables)**.\n",
        "\n",
        "*Objectifs* :\n",
        "\n",
        "- Permettre la manipulation de divers types de données  .\n",
        "\n",
        "-  Lire les données provenant de diverses sources .\n",
        "\n",
        "*les objets data frame de Pandas* :\n",
        "\n",
        "- Permette de représenter les données sous forme de tableaux .\n",
        "\n",
        "- Chaque colonnes pouvant être d'un type différent .\n",
        "\n",
        "- Une colonne ne contient les données que d'un seul type .\n",
        "\n",
        "*Quelques liens* :\n",
        "\n",
        "- [Cours Openclassroom](https://openclassrooms.com/fr/courses/7771531-decouvrez-les-librairies-python-pour-la-data-science)\n",
        "\n",
        "- [Documentation](https://)"
      ],
      "metadata": {
        "id": "hQWysCmTeJPF"
      }
    }
  ]
}