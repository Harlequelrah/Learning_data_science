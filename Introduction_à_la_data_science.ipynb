{
  "cells": [
    {
      "cell_type": "markdown",
      "metadata": {
        "id": "view-in-github",
        "colab_type": "text"
      },
      "source": [
        "<a href=\"https://colab.research.google.com/github/Harlequelrah/Learning_data_science/blob/main/Introduction_%C3%A0_la_data_science.ipynb\" target=\"_parent\"><img src=\"https://colab.research.google.com/assets/colab-badge.svg\" alt=\"Open In Colab\"/></a>"
      ]
    },
    {
      "cell_type": "markdown",
      "source": [
        "NumPy veut dire Numerical Python qui est une bibliothèque pour effectuer des calculs scientifiques avec python.\n",
        "\n",
        "Quelques liens :\n",
        "- [Cours Openclassroom](https://openclassrooms.com/fr/courses/7771531-decouvrez-les-librairies-python-pour-la-data-science)\n",
        "-[Documentation](https://numpy.org/doc/stable/user/index.html)"
      ],
      "metadata": {
        "id": "UXOakhahemvV"
      }
    },
    {
      "cell_type": "code",
      "source": [
        "import numpy as np"
      ],
      "metadata": {
        "id": "S7CDrkruZt55"
      },
      "execution_count": 2,
      "outputs": []
    },
    {
      "cell_type": "markdown",
      "source": [
        "Découverte de quelques fonctions avec NumPy"
      ],
      "metadata": {
        "id": "HOGFREGPe0mR"
      }
    },
    {
      "cell_type": "code",
      "source": [
        "revenus = [1800,1500,2200,3000,2172]\n",
        "print(f\"La moyenne des revenus est {np.mean(revenus)}\")"
      ],
      "metadata": {
        "id": "sDsdWRhsaGXE",
        "outputId": "c2a89e7c-7681-4437-d4d8-042f9f13d1d7",
        "colab": {
          "base_uri": "https://localhost:8080/"
        }
      },
      "execution_count": 3,
      "outputs": [
        {
          "output_type": "stream",
          "name": "stdout",
          "text": [
            "La moyenne des revenus est 2134.4\n"
          ]
        }
      ]
    },
    {
      "cell_type": "code",
      "source": [
        "x= [-2,-1,1,2]\n",
        "print(f\"En valeur absolue on a : {np.abs(x)}\")\n",
        "print(f\"En exponentielle on a : {np.exp(x)}\")\n",
        "print(f\"En logarithme on a : {np.log(np.abs(x))}\")"
      ],
      "metadata": {
        "id": "aBWJhkBGd4hl",
        "outputId": "5642de27-69ef-460a-b5bd-0964f5ee4a30",
        "colab": {
          "base_uri": "https://localhost:8080/"
        }
      },
      "execution_count": 4,
      "outputs": [
        {
          "output_type": "stream",
          "name": "stdout",
          "text": [
            "En valeur absolue on a : [2 1 1 2]\n",
            "En exponentielle on a : [0.13533528 0.36787944 2.71828183 7.3890561 ]\n",
            "En logarithme on a : [0.69314718 0.         0.         0.69314718]\n"
          ]
        }
      ]
    },
    {
      "cell_type": "markdown",
      "source": [
        "Difference entre les arrays et les listes classiques :\n",
        "- les arrays prennent un seul type de donnée\n",
        "- les arrays permettent d'effectuer plus simplement et rapidement des opérations complexe\n",
        "- les arrays facilitent le stockage et la manipulation de données"
      ],
      "metadata": {
        "id": "vm6wUr9hgVrY"
      }
    },
    {
      "cell_type": "markdown",
      "source": [
        "Créer un array NumPy .\n",
        "Si dans la liste de départ il y a des données de types différents, NumPy essaiera de tous les convertir au type le plus général.\n",
        "ex : cas de tableau int et float donnera tableau de float"
      ],
      "metadata": {
        "id": "L9usMUc7eT-S"
      }
    },
    {
      "cell_type": "code",
      "source": [
        "revenus_array=np.array(revenus)\n",
        "revenus_array"
      ],
      "metadata": {
        "id": "xZEwGjoeeZft",
        "outputId": "46498f82-0c2b-4802-b2d3-1c9b845a42c4",
        "colab": {
          "base_uri": "https://localhost:8080/"
        }
      },
      "execution_count": 8,
      "outputs": [
        {
          "output_type": "execute_result",
          "data": {
            "text/plain": [
              "array([1800, 1500, 2200, 3000, 2172])"
            ]
          },
          "metadata": {},
          "execution_count": 8
        }
      ]
    },
    {
      "cell_type": "code",
      "source": [
        "print(np.zeros(5))         #array de 0 , de 5 éléménts\n",
        "print(np.ones(5))          #array de 1 , de 5 éléments\n",
        "print(np.arange(1,10,1))   #array de 1 à 9 avec pas de 1\n",
        "print(np.linspace(1,10,4)) #array de 4 éléments espacés uniformement entre 1 et 10"
      ],
      "metadata": {
        "colab": {
          "base_uri": "https://localhost:8080/"
        },
        "id": "FwVo5KGkh6Wy",
        "outputId": "6424b37b-5f75-4b16-ba52-c578923a22b2"
      },
      "execution_count": 20,
      "outputs": [
        {
          "output_type": "stream",
          "name": "stdout",
          "text": [
            "[0. 0. 0. 0. 0.]\n",
            "[1. 1. 1. 1. 1.]\n",
            "[1 2 3 4 5 6 7 8 9]\n",
            "[ 1.  4.  7. 10.]\n"
          ]
        }
      ]
    },
    {
      "cell_type": "code",
      "source": [
        "revenus_array.dtype # accès au type d'un array"
      ],
      "metadata": {
        "colab": {
          "base_uri": "https://localhost:8080/"
        },
        "id": "kFS7gCl8kFbX",
        "outputId": "766c7590-d69d-47b8-b6ed-d929761b8345"
      },
      "execution_count": 24,
      "outputs": [
        {
          "output_type": "execute_result",
          "data": {
            "text/plain": [
              "dtype('int64')"
            ]
          },
          "metadata": {},
          "execution_count": 24
        }
      ]
    },
    {
      "cell_type": "code",
      "source": [
        "t1 = np.array([1,2,3],dtype='f') # creation d'un tableau de float32\n",
        "t2 = np.array([1,2,3],dtype='d') # creation d'un tableau de float64\n",
        "print(f\"{t1=}\")\n",
        "print(f\"{t2=} , {t2.dtype=}\")\n",
        "print(t1.astype(np.int32)) # modification d'un type"
      ],
      "metadata": {
        "colab": {
          "base_uri": "https://localhost:8080/"
        },
        "id": "dZ3fbgo8k3Yc",
        "outputId": "3309aa43-5f9c-4cc1-d382-a9dcadc73f7c"
      },
      "execution_count": 40,
      "outputs": [
        {
          "output_type": "stream",
          "name": "stdout",
          "text": [
            "t1=array([1., 2., 3.], dtype=float32)\n",
            "t2=array([1., 2., 3.]) , t2.dtype=dtype('float64')\n",
            "[1 2 3]\n"
          ]
        }
      ]
    },
    {
      "cell_type": "markdown",
      "source": [
        "Sélectionner les éléments d'un array"
      ],
      "metadata": {
        "id": "7RTaro8kj6cx"
      }
    },
    {
      "cell_type": "code",
      "source": [
        "x4=revenus_array[4]  #accès à l'élément 4\n",
        "x1=revenus_array[1]  #accès à l'élément 1\n",
        "revenus_array[1]=1900 #modification d'un élément\n",
        "revenus_array\n",
        "print(f\"{x4=}\")\n",
        "print(f\"{x1=}\")\n",
        "print(f\"{x4,revenus_array=}\")\n",
        "print(revenus_array[0:3])\n",
        "print(revenus_array[0:3:2]) # accéder aux éléments de l'index 0 à 3 avec pas de 2\n",
        "print(revenus_array[:2])\n",
        "print(revenus_array[2:])\n",
        "print(revenus_array[::2]) # accéder à un élement sur deux\n",
        "print(revenus_array[::-1]) #inverser un tableau"
      ],
      "metadata": {
        "colab": {
          "base_uri": "https://localhost:8080/"
        },
        "id": "x7XL7NOjiIPU",
        "outputId": "edbc9498-40bb-4ea9-fca9-99d7cf90f2ce"
      },
      "execution_count": 48,
      "outputs": [
        {
          "output_type": "stream",
          "name": "stdout",
          "text": [
            "x4=np.int64(2172)\n",
            "x1=np.int64(1900)\n",
            "x4,revenus_array=(np.int64(2172), array([1800, 1900, 2200, 3000, 2172]))\n",
            "[1800 1900 2200]\n",
            "[1800 2200]\n",
            "[1800 1900]\n",
            "[2200 3000 2172]\n",
            "[1800 2200 2172]\n",
            "[2172 3000 2200 1900 1800]\n"
          ]
        }
      ]
    }
  ],
  "metadata": {
    "colab": {
      "provenance": [],
      "include_colab_link": true
    },
    "kernelspec": {
      "display_name": "Python 3",
      "name": "python3"
    }
  },
  "nbformat": 4,
  "nbformat_minor": 0
}