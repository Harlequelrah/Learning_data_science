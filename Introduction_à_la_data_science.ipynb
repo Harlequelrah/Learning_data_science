{
  "cells": [
    {
      "cell_type": "markdown",
      "metadata": {
        "id": "view-in-github",
        "colab_type": "text"
      },
      "source": [
        "<a href=\"https://colab.research.google.com/github/Harlequelrah/Learning_data_science/blob/main/Introduction_%C3%A0_la_data_science.ipynb\" target=\"_parent\"><img src=\"https://colab.research.google.com/assets/colab-badge.svg\" alt=\"Open In Colab\"/></a>"
      ]
    },
    {
      "cell_type": "markdown",
      "source": [
        "NumPy veut dire Numerical Python qui est une bibliothèque pour effectuer des calculs scientifiques avec python.\n",
        "\n",
        "Quelques liens :\n",
        "- [Cours Openclassroom](https://openclassrooms.com/fr/courses/7771531-decouvrez-les-librairies-python-pour-la-data-science)\n",
        "-[Documentation](https://numpy.org/doc/stable/user/index.html)"
      ],
      "metadata": {
        "id": "UXOakhahemvV"
      }
    },
    {
      "cell_type": "code",
      "source": [
        "import numpy as np"
      ],
      "metadata": {
        "id": "S7CDrkruZt55"
      },
      "execution_count": 42,
      "outputs": []
    },
    {
      "cell_type": "markdown",
      "source": [
        "Découverte de quelques fonctions avec NumPy"
      ],
      "metadata": {
        "id": "HOGFREGPe0mR"
      }
    },
    {
      "cell_type": "code",
      "source": [
        "revenus = [1800,1500,2200,3000,2172]\n",
        "print(f\"La moyenne des revenus est {np.mean(revenus)}\")"
      ],
      "metadata": {
        "id": "sDsdWRhsaGXE",
        "outputId": "44258cac-19a8-4b9a-aaf3-50a4bac174be",
        "colab": {
          "base_uri": "https://localhost:8080/",
          "height": 35
        }
      },
      "execution_count": 68,
      "outputs": [
        {
          "output_type": "display_data",
          "data": {
            "text/plain": [
              "'La moyenne des revenus est 2134.4'"
            ],
            "application/vnd.google.colaboratory.intrinsic+json": {
              "type": "string"
            }
          },
          "metadata": {}
        }
      ]
    },
    {
      "cell_type": "code",
      "source": [
        "x= [-2,-1,1,2]\n",
        "print(f\"En valeur absolue on a : {np.abs(x)}\")\n",
        "print(f\"En exponentielle on a : {np.exp(x)}\")\n",
        "print(f\"En logarithme on a : {np.log(np.abs(x))}\")"
      ],
      "metadata": {
        "id": "aBWJhkBGd4hl",
        "outputId": "a40094b7-d049-4f43-f52f-24463a66977d",
        "colab": {
          "base_uri": "https://localhost:8080/",
          "height": 70
        }
      },
      "execution_count": 73,
      "outputs": [
        {
          "output_type": "stream",
          "name": "stdout",
          "text": [
            "En valeur absolue on a : [2 1 1 2]\n"
          ]
        },
        {
          "output_type": "display_data",
          "data": {
            "text/plain": [
              "'En exponentielle on a : [0.13533528 0.36787944 2.71828183 7.3890561 ]'"
            ],
            "application/vnd.google.colaboratory.intrinsic+json": {
              "type": "string"
            }
          },
          "metadata": {}
        },
        {
          "output_type": "display_data",
          "data": {
            "text/plain": [
              "'En logarithme on a : [0.69314718 0.         0.         0.69314718]'"
            ],
            "application/vnd.google.colaboratory.intrinsic+json": {
              "type": "string"
            }
          },
          "metadata": {}
        }
      ]
    },
    {
      "cell_type": "markdown",
      "source": [
        "Difference entre les arrays et les listes classiques :\n",
        "- les arrays prennent un seul type de donnée\n",
        "- les arrays permettent d'effectuer plus simplement et rapidement des opérations complexe\n",
        "- les arrays facilitent le stockage et la manipulation de données"
      ],
      "metadata": {
        "id": "vm6wUr9hgVrY"
      }
    },
    {
      "cell_type": "markdown",
      "source": [
        "Créer un array NumPy .\n",
        "Si dans la liste de départ il y a des données de types différents, NumPy essaiera de tous les convertir au type le plus général.\n",
        "ex : cas de tableau int et float donnera tableau de float"
      ],
      "metadata": {
        "id": "L9usMUc7eT-S"
      }
    },
    {
      "cell_type": "code",
      "source": [
        "revenus_array=np.array(revenus)\n",
        "revenus_array"
      ],
      "metadata": {
        "id": "xZEwGjoeeZft",
        "outputId": "c6c8d906-a300-4071-abd2-fa8c8805cef6",
        "colab": {
          "base_uri": "https://localhost:8080/"
        }
      },
      "execution_count": 45,
      "outputs": [
        {
          "output_type": "execute_result",
          "data": {
            "text/plain": [
              "array([1800, 1500, 2200, 3000, 2172])"
            ]
          },
          "metadata": {},
          "execution_count": 45
        }
      ]
    },
    {
      "cell_type": "code",
      "source": [
        "print(np.zeros(5))         #array de 0 , de 5 éléménts\n",
        "print(np.ones(5))          #array de 1 , de 5 éléments\n",
        "print(np.arange(1,10,1))   #array de 1 à 9 avec pas de 1\n",
        "print(np.linspace(1,10,4)) #array de 4 éléments espacés uniformement entre 1 et 10"
      ],
      "metadata": {
        "colab": {
          "base_uri": "https://localhost:8080/"
        },
        "id": "FwVo5KGkh6Wy",
        "outputId": "9c2181a1-b1b6-42b7-ae7e-b3f287a26a8f"
      },
      "execution_count": 46,
      "outputs": [
        {
          "output_type": "stream",
          "name": "stdout",
          "text": [
            "[0. 0. 0. 0. 0.]\n",
            "[1. 1. 1. 1. 1.]\n",
            "[1 2 3 4 5 6 7 8 9]\n",
            "[ 1.  4.  7. 10.]\n"
          ]
        }
      ]
    },
    {
      "cell_type": "code",
      "source": [
        "revenus_array.dtype # accès au type d'un array"
      ],
      "metadata": {
        "colab": {
          "base_uri": "https://localhost:8080/"
        },
        "id": "kFS7gCl8kFbX",
        "outputId": "ad5e780d-cf73-4f11-b6de-ea3977db0dea"
      },
      "execution_count": 47,
      "outputs": [
        {
          "output_type": "execute_result",
          "data": {
            "text/plain": [
              "dtype('int64')"
            ]
          },
          "metadata": {},
          "execution_count": 47
        }
      ]
    },
    {
      "cell_type": "code",
      "source": [
        "t1 = np.array([1,2,3],dtype='f') # creation d'un tableau de float32\n",
        "t2 = np.array([1,2,3],dtype='d') # creation d'un tableau de float64\n",
        "print(f\"{t1=}\")\n",
        "print(f\"{t2=} , {t2.dtype=}\")\n",
        "print(t1.astype(np.int32)) # modification d'un type"
      ],
      "metadata": {
        "colab": {
          "base_uri": "https://localhost:8080/"
        },
        "id": "dZ3fbgo8k3Yc",
        "outputId": "ad5523c7-1cbb-4676-84b4-cad6fe9e96ec"
      },
      "execution_count": 48,
      "outputs": [
        {
          "output_type": "stream",
          "name": "stdout",
          "text": [
            "t1=array([1., 2., 3.], dtype=float32)\n",
            "t2=array([1., 2., 3.]) , t2.dtype=dtype('float64')\n",
            "[1 2 3]\n"
          ]
        }
      ]
    },
    {
      "cell_type": "markdown",
      "source": [
        "Sélectionner les éléments d'un array"
      ],
      "metadata": {
        "id": "7RTaro8kj6cx"
      }
    },
    {
      "cell_type": "code",
      "source": [
        "print(revenus_array)\n",
        "x4=revenus_array[4]  #accès à l'élément 4\n",
        "x1=revenus_array[1]  #accès à l'élément 1\n",
        "\n",
        "revenus_array[1]=1900 #modification d'un élément\n",
        "revenus_array\n",
        "print(f\"{x4=}\")\n",
        "print(f\"{x1=}\")\n",
        "print(f\"{x4,revenus_array=}\")\n",
        "\n",
        "print(revenus_array[0:3])\n",
        "print(revenus_array[0:3:2]) # accéder aux éléments de l'index 0 à 3 avec pas de 2\n",
        "print(revenus_array[:2])\n",
        "print(revenus_array[2:])\n",
        "print(revenus_array[::2]) # accéder à un élement sur deux\n",
        "print(revenus_array[::-1]) #inverser un tableau\n"
      ],
      "metadata": {
        "colab": {
          "base_uri": "https://localhost:8080/"
        },
        "id": "x7XL7NOjiIPU",
        "outputId": "4a6f5aec-0d84-4d10-b56c-aa6504c14214"
      },
      "execution_count": 49,
      "outputs": [
        {
          "output_type": "stream",
          "name": "stdout",
          "text": [
            "[1800 1500 2200 3000 2172]\n",
            "x4=np.int64(2172)\n",
            "x1=np.int64(1500)\n",
            "x4,revenus_array=(np.int64(2172), array([1800, 1900, 2200, 3000, 2172]))\n",
            "[1800 1900 2200]\n",
            "[1800 2200]\n",
            "[1800 1900]\n",
            "[2200 3000 2172]\n",
            "[1800 2200 2172]\n",
            "[2172 3000 2200 1900 1800]\n"
          ]
        }
      ]
    },
    {
      "cell_type": "markdown",
      "source": [
        "Accéder aux éléments en fonction de conditions"
      ],
      "metadata": {
        "id": "S7WtVDGEFKtl"
      }
    },
    {
      "cell_type": "code",
      "source": [
        "revenus_array[revenus_array>2000] # retourne un array d'éléments superieur à 2000"
      ],
      "metadata": {
        "colab": {
          "base_uri": "https://localhost:8080/"
        },
        "id": "QFIdDSEyFdl2",
        "outputId": "80c4b891-ee2a-4dd7-99c4-dc2f8f51ffcc"
      },
      "execution_count": 50,
      "outputs": [
        {
          "output_type": "execute_result",
          "data": {
            "text/plain": [
              "array([2200, 3000, 2172])"
            ]
          },
          "metadata": {},
          "execution_count": 50
        }
      ]
    },
    {
      "cell_type": "code",
      "source": [
        "revenus_array[(revenus_array>2000) & (revenus_array<2500)]  # exemple de contidition avec & qui représente and"
      ],
      "metadata": {
        "colab": {
          "base_uri": "https://localhost:8080/"
        },
        "id": "ShT4s8pwcVOY",
        "outputId": "7babb3b9-e343-40c8-bafb-62c6833e2603"
      },
      "execution_count": 51,
      "outputs": [
        {
          "output_type": "execute_result",
          "data": {
            "text/plain": [
              "array([2200, 2172])"
            ]
          },
          "metadata": {},
          "execution_count": 51
        }
      ]
    },
    {
      "cell_type": "code",
      "source": [
        "revenus_array[(revenus_array%30==0) | (revenus_array%11==0)] # exemple de condition avec | qui représente or"
      ],
      "metadata": {
        "colab": {
          "base_uri": "https://localhost:8080/"
        },
        "id": "w75XfaFZcZyh",
        "outputId": "57a63d56-75ec-4b3b-efe0-5ca3efd231c3"
      },
      "execution_count": 52,
      "outputs": [
        {
          "output_type": "execute_result",
          "data": {
            "text/plain": [
              "array([1800, 2200, 3000])"
            ]
          },
          "metadata": {},
          "execution_count": 52
        }
      ]
    },
    {
      "cell_type": "code",
      "source": [
        "revenus_array[revenus_array>2000]=0 #modification de tous les éléments respectant la condition à 0\n",
        "revenus_array"
      ],
      "metadata": {
        "colab": {
          "base_uri": "https://localhost:8080/"
        },
        "id": "zQpD7gAieq_s",
        "outputId": "4455f875-3ea5-4dc3-9f50-7b58346330e1"
      },
      "execution_count": 56,
      "outputs": [
        {
          "output_type": "execute_result",
          "data": {
            "text/plain": [
              "array([1800, 1900,    0,    0,    0])"
            ]
          },
          "metadata": {},
          "execution_count": 56
        }
      ]
    },
    {
      "cell_type": "markdown",
      "source": [
        "Utilisation des méthodes d'array"
      ],
      "metadata": {
        "id": "ysOLN-uP2o84"
      }
    },
    {
      "cell_type": "code",
      "source": [
        "notes=np.array([17,18,11,14])\n",
        "print(\"Le nombre de notes est \",notes.shape)\n",
        "print(\"La moyenne des notes est \",np.mean(notes))\n",
        "print(f\"Le minimum des notes est ,{np.min(notes)} et son indice est {np.argmin(notes)}\")\n",
        "print(f\"Le minimum des notes est ,{np.max(notes)} et son indice est {np.argmax(notes)}\")\n",
        "print(\"Le maximum des notes est \",np.max(notes))\n",
        "print(\"Le somme des notes est \",np.sum(notes))\n",
        "print(f\"Les notes rangées : \",np.sort(notes))\n",
        "\n"
      ],
      "metadata": {
        "colab": {
          "base_uri": "https://localhost:8080/"
        },
        "id": "pVZvR1HA2dyD",
        "outputId": "ff10f1b0-5f88-4141-edaa-ecb75dcf0773"
      },
      "execution_count": 65,
      "outputs": [
        {
          "output_type": "stream",
          "name": "stdout",
          "text": [
            "Le nombre de notes est  (4,)\n",
            "La moyenne des notes est  15.0\n",
            "Le minimum des notes est ,11 et son indice est 2\n",
            "Le minimum des notes est ,18 et son indice est 1\n",
            "Le maximum des notes est  18\n",
            "Le somme des notes est  60\n",
            "Les notes rangées :  [11 14 17 18]\n"
          ]
        }
      ]
    },
    {
      "cell_type": "code",
      "source": [
        "display(revenus_array) #display plus enrichi que print et specialement concus pour jupyter"
      ],
      "metadata": {
        "colab": {
          "base_uri": "https://localhost:8080/",
          "height": 34
        },
        "id": "rwsc_CX5B6Ox",
        "outputId": "9b90c2d0-f1ee-4da0-f76b-70543bbc5065"
      },
      "execution_count": 66,
      "outputs": [
        {
          "output_type": "display_data",
          "data": {
            "text/plain": [
              "array([1800, 1900,    0,    0,    0])"
            ]
          },
          "metadata": {}
        }
      ]
    },
    {
      "cell_type": "markdown",
      "metadata": {
        "id": "86a3574d"
      },
      "source": [
        "Notez qu'en python vous pouvez utiliser le '_' aka 'underscore' comme séparateur de milliers. En effet, '1 000 000' est plus facile à lire que '1000000'."
      ]
    },
    {
      "cell_type": "markdown",
      "source": [
        "Création de array multidimensionnel"
      ],
      "metadata": {
        "id": "PWmZGadDbNmN"
      }
    },
    {
      "cell_type": "code",
      "source": [
        "tab1 = np.array([[1,2],[3,4],[5,6]])\n",
        "tab2 = np.array([1,2,3],[4,5,6])"
      ],
      "metadata": {
        "id": "HDXRvfn1bWXM"
      },
      "execution_count": null,
      "outputs": []
    }
  ],
  "metadata": {
    "colab": {
      "provenance": [],
      "include_colab_link": true
    },
    "kernelspec": {
      "display_name": "Python 3",
      "name": "python3"
    }
  },
  "nbformat": 4,
  "nbformat_minor": 0
}