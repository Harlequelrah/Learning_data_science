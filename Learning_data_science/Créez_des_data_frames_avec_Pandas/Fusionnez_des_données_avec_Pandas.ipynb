{
  "nbformat": 4,
  "nbformat_minor": 0,
  "metadata": {
    "colab": {
      "provenance": [],
      "authorship_tag": "ABX9TyMvSOuCB3elDXFkOeyOXszA",
      "include_colab_link": true
    },
    "kernelspec": {
      "name": "python3",
      "display_name": "Python 3"
    },
    "language_info": {
      "name": "python"
    }
  },
  "cells": [
    {
      "cell_type": "markdown",
      "metadata": {
        "id": "view-in-github",
        "colab_type": "text"
      },
      "source": [
        "<a href=\"https://colab.research.google.com/github/Harlequelrah/Learning_data_science/blob/main/Learning_data_science/Cr%C3%A9ez_des_data_frames_avec_Pandas/Fusionnez_des_donn%C3%A9es_avec_Pandas.ipynb\" target=\"_parent\"><img src=\"https://colab.research.google.com/assets/colab-badge.svg\" alt=\"Open In Colab\"/></a>"
      ]
    },
    {
      "cell_type": "markdown",
      "source": [
        "Le fait de rassembler plusieurs jeux de données différents est appelé une jointure, en algèbre relationnelle.\n",
        "\n",
        "Pour faire une jointure on a besoin d'une clé , un élement commun qui peut être une colonne ou composées de plusieurs colonnes"
      ],
      "metadata": {
        "id": "IiK8MdC1OakE"
      }
    },
    {
      "cell_type": "markdown",
      "source": [
        "**Fusionnez des données avec merge** :\n",
        "\n",
        "- soit la fonction pandas  : pd.merge(A, B)\n",
        "\n",
        "- soit la méthode du data frame  : A.merge(B)\n",
        "\n",
        "\n",
        "Si on spécifie pas la clé pandas fait une jointure naturelle en sélectionnat les colonnes de même nom .\n",
        "\n",
        "Lorsque la clé porte le même nom dans les deux data frame on utilise l'argument on\n",
        "\n",
        "Lorsqu'il porte différent nom on utilise left_on et right_on respectivement pour le data frame à gauche et pour celui à droite .\n",
        "\n",
        "# exemples\n",
        "\n",
        "1 - `jointure entre deux data frame A et B`\n",
        "```python\n",
        "\n",
        "pd.merge(A,B) # jointure naturelle\n",
        "\n",
        "pd.merge(A,B,on='id')\n",
        "```\n",
        "\n",
        "2 - `jointure entre deux data frame A et C`\n",
        "\n",
        "```python\n",
        "C.merge(A,left_on='identifiant',right_on='id')\n",
        "# clé à gauche identifiant\n",
        "# clé à droite id\n",
        "```\n",
        "*le data frame sur lequel s'effectue la jointure ici C est celui considéré comme le data frame left*\n",
        "\n",
        "3  - `jointure entre deux data frame A et B`\n",
        "\n",
        "```python\n",
        "pd.merge(A,B,left_on='id',right_on='identifiant')\n",
        "```\n",
        "*le data frame considéré comme left est le premier renseigné*\n"
      ],
      "metadata": {
        "id": "-dq-oId0O2UH"
      }
    },
    {
      "cell_type": "code",
      "execution_count": null,
      "metadata": {
        "id": "rTRlHSlbNex6"
      },
      "outputs": [],
      "source": []
    }
  ]
}