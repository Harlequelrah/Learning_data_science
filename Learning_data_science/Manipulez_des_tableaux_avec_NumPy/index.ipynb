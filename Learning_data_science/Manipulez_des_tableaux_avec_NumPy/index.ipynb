{
  "cells": [
    {
      "cell_type": "markdown",
      "metadata": {
        "id": "view-in-github",
        "colab_type": "text"
      },
      "source": [
        "<a href=\"https://colab.research.google.com/github/Harlequelrah/Learning_data_science/blob/main/Learning_data_science/Manipulez_des_tableaux_avec_NumPy.ipynb\" target=\"_parent\"><img src=\"https://colab.research.google.com/assets/colab-badge.svg\" alt=\"Open In Colab\"/></a>"
      ]
    },
    {
      "cell_type": "markdown",
      "source": [
        "**NumPy veut dire Numerical Python qui est une bibliothèque pour effectuer des calculs scientifiques avec python.**\n",
        "\n",
        "*Quelques liens* :\n",
        "- [Cours Openclassroom](https://openclassrooms.com/fr/courses/7771531-decouvrez-les-librairies-python-pour-la-data-science)\n",
        "- [Documentation](https://numpy.org/doc/stable/user/index.html)"
      ],
      "metadata": {
        "id": "UXOakhahemvV"
      }
    },
    {
      "cell_type": "code",
      "source": [
        "import numpy as np"
      ],
      "metadata": {
        "id": "S7CDrkruZt55"
      },
      "execution_count": 2,
      "outputs": []
    },
    {
      "cell_type": "markdown",
      "source": [
        "**Découverte de quelques fonctions avec NumPy**"
      ],
      "metadata": {
        "id": "HOGFREGPe0mR"
      }
    },
    {
      "cell_type": "code",
      "source": [
        "revenus = [1800,1500,2200,3000,2172]\n",
        "print(f\"La moyenne des revenus est {np.mean(revenus)}\")"
      ],
      "metadata": {
        "id": "sDsdWRhsaGXE",
        "outputId": "ae94d418-12e9-464b-e4d0-1dcce387891f",
        "colab": {
          "base_uri": "https://localhost:8080/"
        }
      },
      "execution_count": 3,
      "outputs": [
        {
          "output_type": "stream",
          "name": "stdout",
          "text": [
            "La moyenne des revenus est 2134.4\n"
          ]
        }
      ]
    },
    {
      "cell_type": "code",
      "source": [
        "x= [-2,-1,1,2]\n",
        "print(f\"En valeur absolue on a : {np.abs(x)}\")\n",
        "print(f\"En exponentielle on a : {np.exp(x)}\")\n",
        "print(f\"En logarithme on a : {np.log(np.abs(x))}\")"
      ],
      "metadata": {
        "id": "aBWJhkBGd4hl",
        "outputId": "f524ef2d-6be6-4170-8433-e34f2185b82c",
        "colab": {
          "base_uri": "https://localhost:8080/"
        }
      },
      "execution_count": 4,
      "outputs": [
        {
          "output_type": "stream",
          "name": "stdout",
          "text": [
            "En valeur absolue on a : [2 1 1 2]\n",
            "En exponentielle on a : [0.13533528 0.36787944 2.71828183 7.3890561 ]\n",
            "En logarithme on a : [0.69314718 0.         0.         0.69314718]\n"
          ]
        }
      ]
    },
    {
      "cell_type": "markdown",
      "source": [
        "**Différence entre les arrays et les listes classiques** :\n",
        "- les arrays prennent un seul type de donnée\n",
        "- les arrays permettent d'effectuer plus simplement et rapidement des opérations complexe\n",
        "- les arrays facilitent le stockage et la manipulation de données"
      ],
      "metadata": {
        "id": "vm6wUr9hgVrY"
      }
    },
    {
      "cell_type": "markdown",
      "source": [
        "Créer un array NumPy .\n",
        "Si dans la liste de départ il y a des données de types différents, NumPy essaiera de tous les convertir au type le plus général.\n",
        "ex : cas de tableau int et float donnera tableau de float"
      ],
      "metadata": {
        "id": "L9usMUc7eT-S"
      }
    },
    {
      "cell_type": "code",
      "source": [
        "revenus_array=np.array(revenus)\n",
        "revenus_array"
      ],
      "metadata": {
        "id": "xZEwGjoeeZft",
        "outputId": "a3248a35-b734-4d72-a348-2a25bcd556f4",
        "colab": {
          "base_uri": "https://localhost:8080/"
        }
      },
      "execution_count": 5,
      "outputs": [
        {
          "output_type": "execute_result",
          "data": {
            "text/plain": [
              "array([1800, 1500, 2200, 3000, 2172])"
            ]
          },
          "metadata": {},
          "execution_count": 5
        }
      ]
    },
    {
      "cell_type": "code",
      "source": [
        "print(np.zeros(5))         #array de 0 , de 5 éléménts\n",
        "print(np.ones(5))          #array de 1 , de 5 éléments\n",
        "print(np.arange(1,10,1))   #array de 1 à 9 avec pas de 1\n",
        "print(np.linspace(1,10,4)) #array de 4 éléments espacés uniformement entre 1 et 10"
      ],
      "metadata": {
        "colab": {
          "base_uri": "https://localhost:8080/"
        },
        "id": "FwVo5KGkh6Wy",
        "outputId": "b25e114a-0fff-459a-d93c-508e42a56595"
      },
      "execution_count": 6,
      "outputs": [
        {
          "output_type": "stream",
          "name": "stdout",
          "text": [
            "[0. 0. 0. 0. 0.]\n",
            "[1. 1. 1. 1. 1.]\n",
            "[1 2 3 4 5 6 7 8 9]\n",
            "[ 1.  4.  7. 10.]\n"
          ]
        }
      ]
    },
    {
      "cell_type": "code",
      "source": [
        "revenus_array.dtype # accès au type d'un array"
      ],
      "metadata": {
        "colab": {
          "base_uri": "https://localhost:8080/"
        },
        "id": "kFS7gCl8kFbX",
        "outputId": "261453a1-f723-4f48-c47e-5c6b921816be"
      },
      "execution_count": 7,
      "outputs": [
        {
          "output_type": "execute_result",
          "data": {
            "text/plain": [
              "dtype('int64')"
            ]
          },
          "metadata": {},
          "execution_count": 7
        }
      ]
    },
    {
      "cell_type": "code",
      "source": [
        "t1 = np.array([1,2,3],dtype='f') # creation d'un tableau de float32\n",
        "t2 = np.array([1,2,3],dtype='d') # creation d'un tableau de float64\n",
        "print(f\"{t1=}\")\n",
        "print(f\"{t2=} , {t2.dtype=}\")\n",
        "print(t1.astype(np.int32)) # modification d'un type"
      ],
      "metadata": {
        "colab": {
          "base_uri": "https://localhost:8080/"
        },
        "id": "dZ3fbgo8k3Yc",
        "outputId": "42191ef6-eb4b-4586-d7d0-fb1b3f8c1290"
      },
      "execution_count": 8,
      "outputs": [
        {
          "output_type": "stream",
          "name": "stdout",
          "text": [
            "t1=array([1., 2., 3.], dtype=float32)\n",
            "t2=array([1., 2., 3.]) , t2.dtype=dtype('float64')\n",
            "[1 2 3]\n"
          ]
        }
      ]
    },
    {
      "cell_type": "markdown",
      "source": [
        "**Sélectionner les éléments d'un array**"
      ],
      "metadata": {
        "id": "7RTaro8kj6cx"
      }
    },
    {
      "cell_type": "code",
      "source": [
        "print(revenus_array)\n",
        "x4=revenus_array[4]  #accès à l'élément 4\n",
        "x1=revenus_array[1]  #accès à l'élément 1\n",
        "\n",
        "revenus_array[1]=1900 #modification d'un élément\n",
        "revenus_array\n",
        "print(f\"{x4=}\")\n",
        "print(f\"{x1=}\")\n",
        "print(f\"{x4,revenus_array=}\")\n",
        "\n",
        "print(revenus_array[0:3])\n",
        "print(revenus_array[0:3:2]) # accéder aux éléments de l'index 0 à 3 avec pas de 2\n",
        "print(revenus_array[:2])\n",
        "print(revenus_array[2:])\n",
        "print(revenus_array[::2]) # accéder à un élement sur deux\n",
        "print(revenus_array[::-1]) #inverser un tableau\n"
      ],
      "metadata": {
        "colab": {
          "base_uri": "https://localhost:8080/"
        },
        "id": "x7XL7NOjiIPU",
        "outputId": "312e0f17-fa27-435a-d724-a152812a0a14"
      },
      "execution_count": 9,
      "outputs": [
        {
          "output_type": "stream",
          "name": "stdout",
          "text": [
            "[1800 1500 2200 3000 2172]\n",
            "x4=np.int64(2172)\n",
            "x1=np.int64(1500)\n",
            "x4,revenus_array=(np.int64(2172), array([1800, 1900, 2200, 3000, 2172]))\n",
            "[1800 1900 2200]\n",
            "[1800 2200]\n",
            "[1800 1900]\n",
            "[2200 3000 2172]\n",
            "[1800 2200 2172]\n",
            "[2172 3000 2200 1900 1800]\n"
          ]
        }
      ]
    },
    {
      "cell_type": "markdown",
      "source": [
        "**Accéder aux éléments en fonction de conditions**"
      ],
      "metadata": {
        "id": "S7WtVDGEFKtl"
      }
    },
    {
      "cell_type": "code",
      "source": [
        "revenus_array[revenus_array>2000] # retourne un array d'éléments superieur à 2000"
      ],
      "metadata": {
        "colab": {
          "base_uri": "https://localhost:8080/"
        },
        "id": "QFIdDSEyFdl2",
        "outputId": "603ffca4-7135-423f-e7c9-3c56ef3ff026"
      },
      "execution_count": 10,
      "outputs": [
        {
          "output_type": "execute_result",
          "data": {
            "text/plain": [
              "array([2200, 3000, 2172])"
            ]
          },
          "metadata": {},
          "execution_count": 10
        }
      ]
    },
    {
      "cell_type": "code",
      "source": [
        "revenus_array[(revenus_array>2000) & (revenus_array<2500)]  # exemple de contidition avec & qui représente and"
      ],
      "metadata": {
        "colab": {
          "base_uri": "https://localhost:8080/"
        },
        "id": "ShT4s8pwcVOY",
        "outputId": "6a47b062-9302-4fc9-9cf3-7d4636fd60ad"
      },
      "execution_count": 11,
      "outputs": [
        {
          "output_type": "execute_result",
          "data": {
            "text/plain": [
              "array([2200, 2172])"
            ]
          },
          "metadata": {},
          "execution_count": 11
        }
      ]
    },
    {
      "cell_type": "code",
      "source": [
        "revenus_array[(revenus_array%30==0) | (revenus_array%11==0)] # exemple de condition avec | qui représente or"
      ],
      "metadata": {
        "colab": {
          "base_uri": "https://localhost:8080/"
        },
        "id": "w75XfaFZcZyh",
        "outputId": "09f49596-7476-468e-f321-d4f9d93a1e7b"
      },
      "execution_count": 12,
      "outputs": [
        {
          "output_type": "execute_result",
          "data": {
            "text/plain": [
              "array([1800, 2200, 3000])"
            ]
          },
          "metadata": {},
          "execution_count": 12
        }
      ]
    },
    {
      "cell_type": "code",
      "source": [
        "revenus_array[revenus_array>2000]=0 #modification de tous les éléments respectant la condition à 0\n",
        "revenus_array"
      ],
      "metadata": {
        "colab": {
          "base_uri": "https://localhost:8080/"
        },
        "id": "zQpD7gAieq_s",
        "outputId": "aa7fdd2c-1b8c-4350-8f89-eb2feeecbb9e"
      },
      "execution_count": 13,
      "outputs": [
        {
          "output_type": "execute_result",
          "data": {
            "text/plain": [
              "array([1800, 1900,    0,    0,    0])"
            ]
          },
          "metadata": {},
          "execution_count": 13
        }
      ]
    },
    {
      "cell_type": "markdown",
      "source": [
        "**Utilisation des méthodes d'array**"
      ],
      "metadata": {
        "id": "ysOLN-uP2o84"
      }
    },
    {
      "cell_type": "code",
      "source": [
        "notes=np.array([17,18,11,14])\n",
        "print(\"Le nombre de notes est \",notes.shape)\n",
        "print(\"La moyenne des notes est \",np.mean(notes))\n",
        "print(f\"Le minimum des notes est ,{np.min(notes)} et son indice est {np.argmin(notes)}\")\n",
        "print(f\"Le minimum des notes est ,{np.max(notes)} et son indice est {np.argmax(notes)}\")\n",
        "print(\"Le maximum des notes est \",np.max(notes))\n",
        "print(\"Le somme des notes est \",np.sum(notes))\n",
        "print(f\"Les notes rangées : \",np.sort(notes))\n",
        "\n"
      ],
      "metadata": {
        "colab": {
          "base_uri": "https://localhost:8080/"
        },
        "id": "pVZvR1HA2dyD",
        "outputId": "bdf21a57-84e9-4d2f-9e27-ff53ca36f9dc"
      },
      "execution_count": 14,
      "outputs": [
        {
          "output_type": "stream",
          "name": "stdout",
          "text": [
            "Le nombre de notes est  (4,)\n",
            "La moyenne des notes est  15.0\n",
            "Le minimum des notes est ,11 et son indice est 2\n",
            "Le minimum des notes est ,18 et son indice est 1\n",
            "Le maximum des notes est  18\n",
            "Le somme des notes est  60\n",
            "Les notes rangées :  [11 14 17 18]\n"
          ]
        }
      ]
    },
    {
      "cell_type": "code",
      "source": [
        "display(revenus_array) #display plus enrichi que print et specialement concus pour jupyter"
      ],
      "metadata": {
        "colab": {
          "base_uri": "https://localhost:8080/",
          "height": 34
        },
        "id": "rwsc_CX5B6Ox",
        "outputId": "6b8cf163-a219-402f-dcae-1ceb55c44331"
      },
      "execution_count": 15,
      "outputs": [
        {
          "output_type": "display_data",
          "data": {
            "text/plain": [
              "array([1800, 1900,    0,    0,    0])"
            ]
          },
          "metadata": {}
        }
      ]
    },
    {
      "cell_type": "markdown",
      "metadata": {
        "id": "86a3574d"
      },
      "source": [
        "**Notez qu'en python vous pouvez utiliser le '_' aka 'underscore' comme séparateur de milliers. En effet, '1 000 000' est plus facile à lire que '1000000'.**"
      ]
    },
    {
      "cell_type": "markdown",
      "source": [
        "**Création de array multidimensionnel**"
      ],
      "metadata": {
        "id": "PWmZGadDbNmN"
      }
    },
    {
      "cell_type": "code",
      "source": [
        "tab1 = np.array([[1,2],[3,4],[5,6]]) # 3 lignes et 2 colonnes\n",
        "tab2 = np.array([[1,2,3],[4,5,6]])   # 2 lignes et 3 colonnes"
      ],
      "metadata": {
        "id": "HDXRvfn1bWXM"
      },
      "execution_count": 17,
      "outputs": []
    },
    {
      "cell_type": "markdown",
      "source": [
        "**Utilisation de quelques fonctions couramment utilisées**"
      ],
      "metadata": {
        "id": "DTQE1XAumBZF"
      }
    },
    {
      "cell_type": "code",
      "source": [
        "display(np.ones((3,5))) # un tableau 3x5 rempli de 1"
      ],
      "metadata": {
        "colab": {
          "base_uri": "https://localhost:8080/",
          "height": 69
        },
        "id": "eC1pqp0Bmdij",
        "outputId": "11b753c9-6a10-419e-9776-7dc989600ee2"
      },
      "execution_count": 23,
      "outputs": [
        {
          "output_type": "display_data",
          "data": {
            "text/plain": [
              "array([[1., 1., 1., 1., 1.],\n",
              "       [1., 1., 1., 1., 1.],\n",
              "       [1., 1., 1., 1., 1.]])"
            ]
          },
          "metadata": {}
        }
      ]
    },
    {
      "cell_type": "code",
      "source": [
        "display(np.zeros((4,4))) # un tableau 4x4 rempli de 0"
      ],
      "metadata": {
        "colab": {
          "base_uri": "https://localhost:8080/",
          "height": 86
        },
        "id": "VIC0crPUnM0D",
        "outputId": "3e0548cc-c5a5-4b5a-8f94-0af1f85bbe2b"
      },
      "execution_count": 24,
      "outputs": [
        {
          "output_type": "display_data",
          "data": {
            "text/plain": [
              "array([[0., 0., 0., 0.],\n",
              "       [0., 0., 0., 0.],\n",
              "       [0., 0., 0., 0.],\n",
              "       [0., 0., 0., 0.]])"
            ]
          },
          "metadata": {}
        }
      ]
    },
    {
      "cell_type": "code",
      "source": [
        "display(np.random.random((3,2))) # un tableau 3x2 rempli de nombre aléatoire compris entre 0 et 1 ."
      ],
      "metadata": {
        "colab": {
          "base_uri": "https://localhost:8080/",
          "height": 69
        },
        "id": "PnDApFcmnYlm",
        "outputId": "80da7373-02c9-4666-8222-32486bda2074"
      },
      "execution_count": 26,
      "outputs": [
        {
          "output_type": "display_data",
          "data": {
            "text/plain": [
              "array([[0.64459864, 0.06637678],\n",
              "       [0.53666058, 0.90774974],\n",
              "       [0.40980104, 0.99037036]])"
            ]
          },
          "metadata": {}
        }
      ]
    },
    {
      "cell_type": "code",
      "source": [
        "display(np.random.randint(1,10,size=(2,2))) # un tableau 2x2 rempli de nombre aléatoire compris entre 1 et 10 ."
      ],
      "metadata": {
        "colab": {
          "base_uri": "https://localhost:8080/",
          "height": 52
        },
        "id": "C13njppnpanc",
        "outputId": "0e18750a-596a-419f-80af-ba52e662b326"
      },
      "execution_count": 27,
      "outputs": [
        {
          "output_type": "display_data",
          "data": {
            "text/plain": [
              "array([[4, 5],\n",
              "       [1, 2]])"
            ]
          },
          "metadata": {}
        }
      ]
    },
    {
      "cell_type": "markdown",
      "source": [
        "**Découverte de l'anologie entre arrays et matrices** .\n",
        "\n",
        "Les tableaux vus jusqu'a présent matérialisés par des arrays NumPY portent le nom de matrices en mathématique et les calculs matriciels sont le but premier de NumPY.\n",
        "\n",
        "Considerons 3 matrices  A , B et C\n",
        "![matrices.png](data:image/png;base64,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)"
      ],
      "metadata": {
        "id": "gap5uBpvsbcV"
      }
    },
    {
      "cell_type": "code",
      "source": [
        "A = np.array([\n",
        "      [1 , 2],\n",
        "      [3 , 4]\n",
        "    ])\n",
        "B = np.array([\n",
        "      [5 , 10],\n",
        "      [15 , 20]\n",
        "    ])\n",
        "C = np.array([\n",
        "      [2 , 4 , 6],\n",
        "      [8 , 10 , 12]\n",
        "    ])\n",
        "display(A+B) # addition terme à terme des deux matrices .\n",
        "display(A*B) # produit terme à terme des deux matrices .\n",
        "display(A@C) # produit matriciel des deux matrices ."
      ],
      "metadata": {
        "colab": {
          "base_uri": "https://localhost:8080/",
          "height": 121
        },
        "id": "TO1dRf19tALQ",
        "outputId": "ed6e9e7b-d5b2-4106-d8fd-eafd0c51b95d"
      },
      "execution_count": 29,
      "outputs": [
        {
          "output_type": "display_data",
          "data": {
            "text/plain": [
              "array([[ 6, 12],\n",
              "       [18, 24]])"
            ]
          },
          "metadata": {}
        },
        {
          "output_type": "display_data",
          "data": {
            "text/plain": [
              "array([[ 5, 20],\n",
              "       [45, 80]])"
            ]
          },
          "metadata": {}
        },
        {
          "output_type": "display_data",
          "data": {
            "text/plain": [
              "array([[18, 24, 30],\n",
              "       [38, 52, 66]])"
            ]
          },
          "metadata": {}
        }
      ]
    },
    {
      "cell_type": "markdown",
      "source": [
        "**Manipulation avancées d'array**"
      ],
      "metadata": {
        "id": "KcRRsVsQwiJs"
      }
    },
    {
      "cell_type": "code",
      "source": [
        "# voici quelques clients et leurs informations .\n",
        "# revenus , mensualité , age\n",
        "hugo = [1300,400,23]\n",
        "richard = [1700,560,24]\n",
        "emilie = [2500,900,30]\n",
        "gaspard = [3000,1000,22]\n",
        "yohann = [2400,700,28]\n",
        "chloe = [3000,700,34]\n",
        "matthieu = [3500,900,33]\n",
        "rachel = [3300,950,27]\n",
        "maude = [1850,600,25]\n",
        "tableau = [hugo,richard,emilie,gaspard,yohann,chloe,matthieu,rachel,maude]\n",
        "tableau"
      ],
      "metadata": {
        "colab": {
          "base_uri": "https://localhost:8080/"
        },
        "id": "ECmbuJPt0dZT",
        "outputId": "9efe1516-05a1-4230-b5dd-59c8dd46c5aa"
      },
      "execution_count": 30,
      "outputs": [
        {
          "output_type": "execute_result",
          "data": {
            "text/plain": [
              "[[1300, 400, 23],\n",
              " [1700, 560, 24],\n",
              " [2500, 900, 30],\n",
              " [3000, 1000, 22],\n",
              " [2400, 700, 28],\n",
              " [3000, 700, 34],\n",
              " [3500, 900, 33],\n",
              " [3300, 950, 27],\n",
              " [1850, 600, 25]]"
            ]
          },
          "metadata": {},
          "execution_count": 30
        }
      ]
    },
    {
      "cell_type": "code",
      "source": [
        "data = np.array(tableau)\n",
        "data"
      ],
      "metadata": {
        "colab": {
          "base_uri": "https://localhost:8080/"
        },
        "id": "0p4HR_xe1l02",
        "outputId": "3e0434c7-c6e6-420c-a90a-4d68bcbf87e8"
      },
      "execution_count": 41,
      "outputs": [
        {
          "output_type": "execute_result",
          "data": {
            "text/plain": [
              "array([[1300,  400,   23],\n",
              "       [1700,  560,   24],\n",
              "       [2500,  900,   30],\n",
              "       [3000, 1000,   22],\n",
              "       [2400,  700,   28],\n",
              "       [3000,  700,   34],\n",
              "       [3500,  900,   33],\n",
              "       [3300,  950,   27],\n",
              "       [1850,  600,   25]])"
            ]
          },
          "metadata": {},
          "execution_count": 41
        }
      ]
    },
    {
      "cell_type": "code",
      "source": [
        "data[4,1] # élément à la ligne 4 et la colonne 1"
      ],
      "metadata": {
        "colab": {
          "base_uri": "https://localhost:8080/"
        },
        "id": "v7LdUFcx1qAz",
        "outputId": "734f3d8e-6afa-47c7-99c2-b5b1ea0b59f3"
      },
      "execution_count": 33,
      "outputs": [
        {
          "output_type": "execute_result",
          "data": {
            "text/plain": [
              "np.int64(700)"
            ]
          },
          "metadata": {},
          "execution_count": 33
        }
      ]
    },
    {
      "cell_type": "code",
      "source": [
        "data[:,2] # on sélectionne toutes les lignes et la colonne 2\n",
        "# cela revient à toutes les lignes de la colonne 2"
      ],
      "metadata": {
        "colab": {
          "base_uri": "https://localhost:8080/"
        },
        "id": "0NF1XC4O2IGC",
        "outputId": "f724d372-0021-4ed9-e034-edfc6b5480d3"
      },
      "execution_count": 34,
      "outputs": [
        {
          "output_type": "execute_result",
          "data": {
            "text/plain": [
              "array([23, 24, 30, 22, 28, 34, 33, 27, 25])"
            ]
          },
          "metadata": {},
          "execution_count": 34
        }
      ]
    },
    {
      "cell_type": "code",
      "source": [
        "data[0,:] # on sélectionne la ligne 0 et toutes les colonnes\n",
        "# cela revient à selectionner toutes les colonnes de la ligne 0"
      ],
      "metadata": {
        "colab": {
          "base_uri": "https://localhost:8080/"
        },
        "id": "3N7c80_a2cer",
        "outputId": "c6c038a0-3652-4830-d3fc-3c4fece7c0cf"
      },
      "execution_count": 35,
      "outputs": [
        {
          "output_type": "execute_result",
          "data": {
            "text/plain": [
              "array([1300,  400,   23])"
            ]
          },
          "metadata": {},
          "execution_count": 35
        }
      ]
    },
    {
      "cell_type": "code",
      "source": [
        "data[data[:,2]<=25] # on sélectionne les clients dont les âges sont inférieur ou égale à 25 ."
      ],
      "metadata": {
        "colab": {
          "base_uri": "https://localhost:8080/"
        },
        "id": "DsBRoEFD3WYV",
        "outputId": "eedee832-a9d3-4100-8875-a702a3e293ad"
      },
      "execution_count": 37,
      "outputs": [
        {
          "output_type": "execute_result",
          "data": {
            "text/plain": [
              "array([[1300,  400,   23],\n",
              "       [1700,  560,   24],\n",
              "       [3000, 1000,   22],\n",
              "       [1850,  600,   25]])"
            ]
          },
          "metadata": {},
          "execution_count": 37
        }
      ]
    },
    {
      "cell_type": "code",
      "source": [
        "fred = [1750,700,27]\n",
        "result_1=np.vstack((data,fred)) # empile verticalement et rajoute une ligne\n",
        "result_1"
      ],
      "metadata": {
        "colab": {
          "base_uri": "https://localhost:8080/"
        },
        "id": "7sB3a0-P5QUG",
        "outputId": "09986bdb-bd51-4993-df0e-4d863e078179"
      },
      "execution_count": 52,
      "outputs": [
        {
          "output_type": "execute_result",
          "data": {
            "text/plain": [
              "array([[1300,  400,   23],\n",
              "       [1700,  560,   24],\n",
              "       [2500,  900,   30],\n",
              "       [3000, 1000,   22],\n",
              "       [2400,  700,   28],\n",
              "       [3000,  700,   34],\n",
              "       [3500,  900,   33],\n",
              "       [3300,  950,   27],\n",
              "       [1850,  600,   25],\n",
              "       [1750,  700,   27]])"
            ]
          },
          "metadata": {},
          "execution_count": 52
        }
      ]
    },
    {
      "cell_type": "code",
      "source": [
        "nb_childs=np.ones((9,1),dtype=int)\n",
        "result_2=np.hstack((data,nb_childs))\n",
        "display(result_2)"
      ],
      "metadata": {
        "colab": {
          "base_uri": "https://localhost:8080/",
          "height": 173
        },
        "id": "1-vkffcH6Sc8",
        "outputId": "0264a29c-cb18-4a01-cc4f-5e3a68d600d9"
      },
      "execution_count": 54,
      "outputs": [
        {
          "output_type": "display_data",
          "data": {
            "text/plain": [
              "array([[1300,  400,   23,    1],\n",
              "       [1700,  560,   24,    1],\n",
              "       [2500,  900,   30,    1],\n",
              "       [3000, 1000,   22,    1],\n",
              "       [2400,  700,   28,    1],\n",
              "       [3000,  700,   34,    1],\n",
              "       [3500,  900,   33,    1],\n",
              "       [3300,  950,   27,    1],\n",
              "       [1850,  600,   25,    1]])"
            ]
          },
          "metadata": {}
        }
      ]
    }
  ],
  "metadata": {
    "colab": {
      "provenance": [],
      "include_colab_link": true
    },
    "kernelspec": {
      "display_name": "Python 3",
      "name": "python3"
    }
  },
  "nbformat": 4,
  "nbformat_minor": 0
}
