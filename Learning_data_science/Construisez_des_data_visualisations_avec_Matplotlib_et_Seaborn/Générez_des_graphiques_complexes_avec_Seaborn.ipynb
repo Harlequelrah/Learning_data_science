{
  "nbformat": 4,
  "nbformat_minor": 0,
  "metadata": {
    "colab": {
      "provenance": [],
      "authorship_tag": "ABX9TyNhM4DrLSWyMNQghz+iPcHh",
      "include_colab_link": true
    },
    "kernelspec": {
      "name": "python3",
      "display_name": "Python 3"
    },
    "language_info": {
      "name": "python"
    }
  },
  "cells": [
    {
      "cell_type": "markdown",
      "metadata": {
        "id": "view-in-github",
        "colab_type": "text"
      },
      "source": [
        "<a href=\"https://colab.research.google.com/github/Harlequelrah/Learning_data_science/blob/main/Learning_data_science/Construisez_des_data_visualisations_avec_Matplotlib_et_Seaborn/G%C3%A9n%C3%A9rez_des_graphiques_complexes_avec_Seaborn.ipynb\" target=\"_parent\"><img src=\"https://colab.research.google.com/assets/colab-badge.svg\" alt=\"Open In Colab\"/></a>"
      ]
    },
    {
      "cell_type": "markdown",
      "source": [
        "Seaborn est une alternative et une surcouche à matplotlib permettant de générer des graphiques de meilleurs qualités donc permettant d'utiliser l'ensemble des options de personnalisation possible avec matplotlib\n",
        "\n"
      ],
      "metadata": {
        "id": "IXWM0XffjZSF"
      }
    },
    {
      "cell_type": "code",
      "execution_count": null,
      "metadata": {
        "id": "_dwuUkjnhVEc"
      },
      "outputs": [],
      "source": []
    }
  ]
}