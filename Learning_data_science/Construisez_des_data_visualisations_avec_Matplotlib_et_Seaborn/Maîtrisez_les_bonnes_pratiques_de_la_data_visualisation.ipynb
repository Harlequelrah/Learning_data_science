{
  "nbformat": 4,
  "nbformat_minor": 0,
  "metadata": {
    "colab": {
      "provenance": [],
      "authorship_tag": "ABX9TyMFz0auXE3gG2CMRLcOMwkA",
      "include_colab_link": true
    },
    "kernelspec": {
      "name": "python3",
      "display_name": "Python 3"
    },
    "language_info": {
      "name": "python"
    }
  },
  "cells": [
    {
      "cell_type": "markdown",
      "metadata": {
        "id": "view-in-github",
        "colab_type": "text"
      },
      "source": [
        "<a href=\"https://colab.research.google.com/github/Harlequelrah/Learning_data_science/blob/main/Learning_data_science/Construisez_des_data_visualisations_avec_Matplotlib_et_Seaborn/Ma%C3%AEtrisez_les_bonnes_pratiques_de_la_data_visualisation.ipynb\" target=\"_parent\"><img src=\"https://colab.research.google.com/assets/colab-badge.svg\" alt=\"Open In Colab\"/></a>"
      ]
    },
    {
      "cell_type": "markdown",
      "source": [
        "**La data visualisation ou dataviz** est un ensemble de techniques permettant d'accéder à des informations clés sur un grand volume de donnée et d'en faciliter la compréhension et la lecture pour tous .\n",
        "\n",
        "En génrale , on utilise :\n",
        "\n",
        "- une courbe pour représenter l'evolution d'une caractéristique\n",
        "\n",
        "- un graphique circulaire pour représenter une répartition\n",
        "\n",
        "- une carte pour afficher des informations\n",
        "\n",
        "# Identifier le graphique adapté:\n",
        "\n",
        "1 - Présenter une evolution dans le temps:\n",
        "\n",
        "Ce cas se présente lorsqu'on souhaite représenter une variable numérique qui évolue dans le temps .\n",
        "\n",
        "Les diagrammes:\n",
        "\n",
        "- diagramme en ligne  ou en courbe\n",
        "\n",
        "- diagramme à barre\n",
        "\n",
        "2 - Comparez différents groupes:\n",
        "\n",
        "Ce cas se présente lorsqu'on souhaite représenter des données agrégées sur une variable non numérique.\n",
        "\n",
        "Les diagrammes:\n",
        "\n",
        "- diagramme de molière ou cammemberts\n",
        "\n",
        "- diagramme à barre\n",
        "\n",
        "3 - Représentez une distribution:\n",
        "\n",
        "Les diagrammes :\n",
        "\n",
        "- variable numerique :\n",
        "  \n",
        "  - histogramme\n",
        "\n",
        "  - diagramme à densité\n",
        "\n",
        "- variable  non numerique :\n",
        "\n",
        "  - diagramme à barre\n",
        "\n",
        "  - diagramme circulaire"
      ],
      "metadata": {
        "id": "zVlwEgyPkBL1"
      }
    },
    {
      "cell_type": "code",
      "execution_count": null,
      "metadata": {
        "id": "VOwq_Eefi5KO"
      },
      "outputs": [],
      "source": []
    }
  ]
}