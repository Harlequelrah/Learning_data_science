{
  "nbformat": 4,
  "nbformat_minor": 0,
  "metadata": {
    "colab": {
      "provenance": [],
      "authorship_tag": "ABX9TyNTMd+MLKQUvHx2Oz41WwBl",
      "include_colab_link": true
    },
    "kernelspec": {
      "name": "python3",
      "display_name": "Python 3"
    },
    "language_info": {
      "name": "python"
    }
  },
  "cells": [
    {
      "cell_type": "markdown",
      "metadata": {
        "id": "view-in-github",
        "colab_type": "text"
      },
      "source": [
        "<a href=\"https://colab.research.google.com/github/Harlequelrah/Learning_data_science/blob/main/Learning_data_science/Construisez_des_data_visualisations_avec_Matplotlib_et_Seaborn/Ma%C3%AEtrisez_les_bonnes_pratiques_de_la_data_visualisation.ipynb\" target=\"_parent\"><img src=\"https://colab.research.google.com/assets/colab-badge.svg\" alt=\"Open In Colab\"/></a>"
      ]
    },
    {
      "cell_type": "markdown",
      "source": [
        "**La data visualisation ou dataviz** est un ensemble de techniques permettant d'accéder à des informations clés sur un grand volume de donnée et d'en faciliter la compréhension et la lecture pour tous .\n",
        "\n",
        "En génrale , on utilise :\n",
        "\n",
        "- une courbe pour représenter l'evolution d'une caractéristique\n",
        "\n",
        "- un graphique circulaire pour représenter une répartition\n",
        "\n",
        "- une carte pour afficher des informations\n",
        "\n",
        "## **Identifier le graphique adapté**:\n",
        "\n",
        "1 - Présenter une evolution dans le temps:\n",
        "\n",
        "Ce cas se présente lorsqu'on souhaite représenter une variable numérique qui évolue dans le temps .\n",
        "\n",
        "Les diagrammes:\n",
        "\n",
        "- diagramme en ligne  ou en courbe\n",
        "\n",
        "- diagramme à barre\n",
        "\n",
        "2 - Comparez différents groupes:\n",
        "\n",
        "Ce cas se présente lorsqu'on souhaite représenter des données agrégées sur une variable non numérique.\n",
        "\n",
        "Les diagrammes:\n",
        "\n",
        "- diagramme de molière ou cammemberts\n",
        "\n",
        "- diagramme à barre\n",
        "\n",
        "3 - Représentez une distribution:\n",
        "\n",
        "Les diagrammes :\n",
        "\n",
        "- variable numerique :\n",
        "  \n",
        "  - histogramme\n",
        "\n",
        "  - diagramme à densité\n",
        "\n",
        "- variable  non numerique :\n",
        "\n",
        "  - diagramme à barre\n",
        "\n",
        "  - diagramme circulaire\n",
        "\n",
        "## **Représentez la relation entre 2 variables numériques**:\n",
        "\n",
        "On peut représenter un nuage de point qui est le tracé obtenu en plaçant l'une des variables en abscisse et l'autre en ordonnée"
      ],
      "metadata": {
        "id": "zVlwEgyPkBL1"
      }
    },
    {
      "cell_type": "markdown",
      "source": [
        "# **Cernez les bonnes pratiques de la dataviz**\n",
        "\n",
        "## 1 - `Privilégiez la simplicité`\n",
        "\n",
        "Afin d’éviter d’avoir un graphique illisible, privilégiez la simplicité, quitte à en faire plusieurs.\n",
        "\n",
        "## 2 - `Clarifiez votre graphique`\n",
        "\n",
        "Faites toujours en sorte de donner l’ensemble des informations pertinentes à votre lecteur, pour qu’il soit en mesure d’interpréter correctement son graphique\n",
        "\n",
        "## 3 -  `Choisissez le graphique adéquat`\n",
        "\n",
        "Il faut choisir le bon graphique en tenant compte des couleurs , axes etc ... afin de ne pas induire le lecteur en erreur ."
      ],
      "metadata": {
        "id": "XY58CkPGQJ4V"
      }
    }
  ]
}