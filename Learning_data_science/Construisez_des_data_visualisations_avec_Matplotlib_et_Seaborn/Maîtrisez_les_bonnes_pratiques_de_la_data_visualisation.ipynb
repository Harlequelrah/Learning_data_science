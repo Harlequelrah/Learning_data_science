{
  "nbformat": 4,
  "nbformat_minor": 0,
  "metadata": {
    "colab": {
      "provenance": [],
      "authorship_tag": "ABX9TyPJz/0rVjZnwJt5izXzn4Oc",
      "include_colab_link": true
    },
    "kernelspec": {
      "name": "python3",
      "display_name": "Python 3"
    },
    "language_info": {
      "name": "python"
    }
  },
  "cells": [
    {
      "cell_type": "markdown",
      "metadata": {
        "id": "view-in-github",
        "colab_type": "text"
      },
      "source": [
        "<a href=\"https://colab.research.google.com/github/Harlequelrah/Learning_data_science/blob/main/Learning_data_science/Construisez_des_data_visualisations_avec_Matplotlib_et_Seaborn/Ma%C3%AEtrisez_les_bonnes_pratiques_de_la_data_visualisation.ipynb\" target=\"_parent\"><img src=\"https://colab.research.google.com/assets/colab-badge.svg\" alt=\"Open In Colab\"/></a>"
      ]
    },
    {
      "cell_type": "code",
      "execution_count": null,
      "metadata": {
        "id": "VOwq_Eefi5KO"
      },
      "outputs": [],
      "source": []
    }
  ]
}